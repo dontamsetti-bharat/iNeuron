{
 "cells": [
  {
   "cell_type": "code",
   "execution_count": 68,
   "metadata": {},
   "outputs": [
    {
     "name": "stdout",
     "output_type": "stream",
     "text": [
      "Enter a stringineuron\n",
      "norueni"
     ]
    }
   ],
   "source": [
    "#------Answer 1-------\n",
    "def createPattern (number):\n",
    "    createForwardPattern(number);\n",
    "    createBackwardPattern(number - 1)\n",
    "    \n",
    "def createForwardPattern (number):\n",
    "    for i in range(1, number + 1):\n",
    "        patternToDisplay = \"\"\n",
    "        for j in range(0, i):\n",
    "            patternToDisplay = patternToDisplay + \"*\"\n",
    "        print(patternToDisplay)\n",
    "\n",
    "def createBackwardPattern (number):\n",
    "    for i in range(number, 0, -1):\n",
    "        patternToDisplay = \"\"\n",
    "        for j in range(0, i):\n",
    "            patternToDisplay = patternToDisplay + \"*\"\n",
    "        print(patternToDisplay)\n",
    "\n",
    "#createPattern(5)\n",
    "#------Answer 2-------\n",
    "#Write a Python program to accept the user's first and last name and then getting them \n",
    "#printed in the the reverse order with a space between first name and last name.\n",
    "inputString = input(\"Enter a string\")\n",
    "listVersion = list(inputString)\n",
    "index = len(listVersion)\n",
    "while index > 0:\n",
    "    print(listVersion[index-1], end=\"\")\n",
    "    index = index - 1\n",
    "    \n"
   ]
  },
  {
   "cell_type": "code",
   "execution_count": 54,
   "metadata": {},
   "outputs": [
    {
     "name": "stdout",
     "output_type": "stream",
     "text": [
      "Enter a string : Bharat\n"
     ]
    }
   ],
   "source": [
    "inputString = input(\"Enter a string : \")\n",
    "inputString."
   ]
  },
  {
   "cell_type": "code",
   "execution_count": 60,
   "metadata": {},
   "outputs": [],
   "source": [
    "listVersion = list(\"Bharat\")"
   ]
  },
  {
   "cell_type": "code",
   "execution_count": 65,
   "metadata": {},
   "outputs": [
    {
     "name": "stdout",
     "output_type": "stream",
     "text": [
      "6\n"
     ]
    }
   ],
   "source": [
    "print(len(listVersion))"
   ]
  },
  {
   "cell_type": "code",
   "execution_count": null,
   "metadata": {},
   "outputs": [],
   "source": []
  }
 ],
 "metadata": {
  "kernelspec": {
   "display_name": "Python 3",
   "language": "python",
   "name": "python3"
  },
  "language_info": {
   "codemirror_mode": {
    "name": "ipython",
    "version": 3
   },
   "file_extension": ".py",
   "mimetype": "text/x-python",
   "name": "python",
   "nbconvert_exporter": "python",
   "pygments_lexer": "ipython3",
   "version": "3.8.5"
  }
 },
 "nbformat": 4,
 "nbformat_minor": 4
}
