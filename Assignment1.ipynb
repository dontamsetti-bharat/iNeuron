def isDivisibleBy7AndNot5 (number):
    if(number%7 == 0 and number%5 != 0):
        return True

startFrom = int(input());
endAt = int(input());
j=0
l=[]
for i in range(startFrom, endAt+1):
    if (isDivisibleBy7AndNot5(i)):
        l.append(i)
print(l)
