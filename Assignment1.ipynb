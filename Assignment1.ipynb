#------Answer 1-------
#Write a program which will find all such numbers which are divisible by 7 but are not a
#multiple of 5, between 2000 and 3200 (both included). The numbers obtained should be printed
#in a comma-separated sequence on a single line.

def isDivisibleBy7AndNot5 (number):
    if(number%7 == 0 and number%5 != 0):
        return True
startFrom = int(input("Enter the starting number : "));
endAt = int(input("Enter the ending number : "));
l=[]
for i in range(startFrom, endAt+1):
    if (isDivisibleBy7AndNot5(i)):
        l.append(i)
print("Below is the list of number satisfying the criteria from the provided range : ")
print(l)

#------Answer 2-------
#Write a Python program to accept the user's first and last name and then getting them 
#printed in the the reverse order with a space between first name and last name.
firstName = input("Enter First Name : ");
lastName = input("Enter Last Name : ");
print(lastName + " " + firstName)

#------Answer 3-------
#Write a Python program to find the volume of a sphere with diameter 12 cm.
pi=3.14
diameter = int(input("Enter Diameter of the sphere : "));
radius = diameter/2
volume = 4/3 * pi * radius**3
print("The volume of the sphere with diameter " + str(diameter) + " is " + str(volume) + " cubic cm")
